{
 "nbformat": 4,
 "nbformat_minor": 2,
 "metadata": {
  "language_info": {
   "name": "python",
   "codemirror_mode": {
    "name": "ipython",
    "version": 3
   }
  },
  "orig_nbformat": 2,
  "file_extension": ".py",
  "mimetype": "text/x-python",
  "name": "python",
  "npconvert_exporter": "python",
  "pygments_lexer": "ipython3",
  "version": 3
 },
 "cells": [
  {
   "cell_type": "code",
   "execution_count": null,
   "metadata": {},
   "outputs": [],
   "source": [
    "# Test your code in the simple environment\n",
    "# don't modify this cell. It will be overwritten by the autograder.\n",
    "# if you want to test things, please create additional cells at the end\n",
    "environment = Environment(\"simple.yaml\")\n",
    "radius = 0.3\n",
    "bounds = (-2, -3, 12, 8)\n",
    "start = (0, 0)\n",
    "goal_region = Polygon([(10, 5), (10, 6), (11, 6), (11, 5)])\n",
    "path = rrt(bounds, environment, start, radius, goal_region)\n",
    "# The check path function checks that the path is a list,\n",
    "# its elements are tuples and the start and end are correct\n",
    "# It doesn't check collisions.\n",
    "check_path(path, bounds, environment, start, radius, goal_region)"
   ]
  },
  {
   "cell_type": "code",
   "execution_count": null,
   "metadata": {},
   "outputs": [],
   "source": []
  }
 ]
}